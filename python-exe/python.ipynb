{
  "cells": [
    {
      "cell_type": "code",
      "execution_count": null,
      "metadata": {
        "id": "nuvYzZ8zeGX2"
      },
      "outputs": [],
      "source": [
        "#prime numbers\n",
        "for num in range(1,100):\n",
        "    if all(num%i!=0 for i in range(2,num)):\n",
        "        print(num, end=\" \")\n"
      ]
    },
    {
      "cell_type": "code",
      "execution_count": null,
      "metadata": {
        "id": "Sn9tMckKr0eS"
      },
      "outputs": [],
      "source": [
        "#print 2 place after the dot\n",
        "num=34.765467\n",
        "print(f\"{num:.3f}\")"
      ]
    },
    {
      "cell_type": "code",
      "execution_count": null,
      "metadata": {
        "id": "7vxCGtlirko8"
      },
      "outputs": [],
      "source": [
        "#work with List Set and Tuple\n",
        "list1 = [1,2,3,4,5]\n",
        "set1 = {1,2,3,4,4,4,4,5}\n",
        "tuple1 = (1,2,3,4,5, \"hello\")\n",
        "print(list1)\n",
        "print(set1)\n",
        "print(tuple1)\n",
        "\n",
        "#Tuple unpack\n",
        "first,*middle,last = tuple1\n",
        "print(first)\n",
        "print(middle)\n",
        "print(last)\n",
        "\n",
        "#Set union,intersection\n",
        "list2 = set1.intersection(list1)\n",
        "print(list2)\n",
        "\n",
        "del list1[1]\n",
        "print(list1)"
      ]
    },
    {
      "cell_type": "code",
      "execution_count": null,
      "metadata": {
        "id": "32iWWlLHt5a4"
      },
      "outputs": [],
      "source": [
        "#power of 2 for even num in dict\n",
        "dict = {x:x**2 for x in range(10) if x%2==0}\n",
        "print(dict)"
      ]
    },
    {
      "cell_type": "code",
      "execution_count": null,
      "metadata": {
        "id": "wPx9_m6FzOkN"
      },
      "outputs": [],
      "source": [
        "# is strong password function\n",
        "def is_strong_password(password):\n",
        "    if len(password) < 8:\n",
        "        return False\n",
        "    if not any(char.islower() for char in password):\n",
        "        return False\n",
        "    if not any(char.isupper() for char in password):\n",
        "        return False\n",
        "    if not any(char.isdigit() for char in password):\n",
        "        return False\n",
        "    if not any(char in \"!@#$%^&*()_+\" for char in password):\n",
        "        return False\n",
        "    return True\n",
        "\n",
        "print(is_strong_password(\"Password123\"))\n",
        "print(is_strong_password(\"Password123!\"))"
      ]
    },
    {
      "cell_type": "code",
      "execution_count": null,
      "metadata": {
        "id": "x_naWjz7z_u0"
      },
      "outputs": [],
      "source": [
        "#is a palindrome\n",
        "def is_palindrome(string):\n",
        "    return string == string[::-1]\n",
        "\n",
        "print(is_palindrome(\"racecar\"))\n",
        "print(is_palindrome(\"hello\"))"
      ]
    },
    {
      "cell_type": "code",
      "execution_count": null,
      "metadata": {
        "id": "zYP93dNj0jZ-"
      },
      "outputs": [],
      "source": [
        "#file operation - count freq of each word\n",
        "def count_word_freq(filename):\n",
        "    word_freq = {}\n",
        "    with open(filename, \"r\") as file:\n",
        "        for line in file:\n",
        "            words = line.strip().split()\n",
        "            for word in words:\n",
        "                word = word.lower().strip(\".,!?()\\:;[]'/\")\n",
        "                word_freq[word] = word_freq.get(word, 0) + 1\n",
        "    return word_freq\n",
        "\n",
        "print(count_word_freq(\"sample_data/README.md\"))\n"
      ]
    },
    {
      "cell_type": "code",
      "execution_count": null,
      "metadata": {
        "id": "Sz4iavPK211Z"
      },
      "outputs": [],
      "source": [
        "#lambda function => lambda params:expression\n",
        "add = lambda a,b: a+b\n",
        "print(type(add))\n",
        "print(add(1,2))\n",
        "\n",
        "#map - apply expression to all item in the list\n",
        "numbers = [1,2,3,4,5]\n",
        "squared_numbers = list(map(lambda x: x**2, numbers))\n",
        "print(squared_numbers)\n",
        "\n",
        "#filter - apply expression to all item in the list\n",
        "even_numbers = list(filter(lambda x: x%2==0 and x>5, squared_numbers))\n",
        "print(even_numbers)\n"
      ]
    },
    {
      "cell_type": "code",
      "execution_count": null,
      "metadata": {
        "id": "FfM88f_621r7"
      },
      "outputs": [],
      "source": [
        "#packages\n",
        "from math import sqrt\n",
        "print(sqrt(16))\n",
        "\n",
        "import numpy as np\n",
        "np.array([1,2,3])\n"
      ]
    },
    {
      "cell_type": "code",
      "execution_count": null,
      "metadata": {
        "id": "7GJ1dwq5nMrE"
      },
      "outputs": [],
      "source": [
        "import os\n",
        "print(os.getcwd())\n",
        "\n",
        "with open(\"sample_data/example.txt\", \"w\") as file:\n",
        "  file.write(\"hello\")\n",
        "\n",
        "with open(\"sample_data/example.txt\", \"r\") as file:\n",
        "  for line in file:\n",
        "    print(line.strip())\n",
        "\n",
        "\n",
        "#get full path of file\n",
        "print(os.path.abspath(\"sample_data/example.txt\"))\n",
        "item = os.listdir(\"sample_data\")\n",
        "print(item)\n"
      ]
    },
    {
      "cell_type": "code",
      "execution_count": null,
      "metadata": {
        "id": "TBhg0M-jsYx3"
      },
      "outputs": [],
      "source": [
        "# prompt: exception hendling\n",
        "\n",
        "try:\n",
        "  with open(\"sample_data/example.txt\", \"w\") as file:\n",
        "    file.write(\"hello\\n\")\n",
        "    file.write(\"hello\\n\")\n",
        "    file.write(\"hello\\n\")\n",
        "    file.write(\"hello\\n\")\n",
        "    file.write(\"hello\\n\")\n",
        "    file.write(\"hello\\n\")\n",
        "\n",
        "\n",
        "  with open(\"sample_data/example.txt\", \"r\") as file:\n",
        "    #count number of lines\n",
        "    lines = file.readlines()\n",
        "    print(len(lines))\n",
        "  with open(\"sample_data/example.txt\", \"r\") as file:\n",
        "    for line in file:\n",
        "      #count number of char\n",
        "      print(len(line.strip()))\n",
        "except Exception as e:\n",
        "  print(f\"An error occurred during file operations : {e}\")\n",
        "\n",
        "# get full path of file\n",
        "try:\n",
        "    print(os.path.abspath(\"sample_data/example.txt\"))\n",
        "    item = os.listdir(\"sample_data\")\n",
        "    print(item)\n",
        "    print(len(item))\n",
        "except Exception as e:\n",
        "    print(f\"An error occurred during file path operations : {e}\")\n",
        "finally:\n",
        "    print(\"finally\")\n"
      ]
    },
    {
      "cell_type": "code",
      "execution_count": null,
      "metadata": {
        "id": "SD4-Z5sAyhTB"
      },
      "outputs": [],
      "source": [
        "# prompt: #class\n",
        "\n",
        "class Dog:\n",
        "    def __init__(self, name, age):\n",
        "        self.name = name\n",
        "        self.age = age\n",
        "\n",
        "    def bark(self):\n",
        "        print(\"Woof!\")\n",
        "\n",
        "    def info(self):\n",
        "        print(f\"Name: {self.name}, Age: {self.age}\")\n",
        "\n",
        "my_dog = Dog(\"Buddy\", 3)\n",
        "my_dog.bark()\n",
        "my_dog.info()\n"
      ]
    },
    {
      "cell_type": "code",
      "execution_count": null,
      "metadata": {
        "id": "zkWl7GAq_-OO"
      },
      "outputs": [],
      "source": [
        "from abc import ABC,abstractmethod\n",
        "#multiple inheritance\n",
        "#----------------------------------------------\n",
        "class Animal:\n",
        "    def __init__(self, name):\n",
        "        print(\"run __init__ in Animel\")\n",
        "        self.name = name\n",
        "\n",
        "    def eat(self):\n",
        "        print(f\"{self.name} is eating.\")\n",
        "\n",
        "    def get_name(self):\n",
        "        return f\"{self.name} from Animal\"\n",
        "\n",
        "    @abstractmethod\n",
        "    def speak(self):\n",
        "      pass\n",
        "\n",
        "#----------------------------------------------\n",
        "class Flyable:\n",
        "    def __init__(self, num_of_wing):\n",
        "        print(\"run __init__ in Flyable\")\n",
        "        self.num_of_wing = num_of_wing\n",
        "\n",
        "    def fly(self):\n",
        "        print(f\"{self.name} is flying with {self.num_of_wing} wing.\")\n",
        "\n",
        "    def get_name(self):\n",
        "        return f\"{self.name} from Flyable\"\n",
        "\n",
        "#----------------------------------------------\n",
        "class Bird(Animal, Flyable):\n",
        "    def __init__(self, name, num_of_wing):\n",
        "        print(\"run __init__ in Bird\")\n",
        "        super().__init__(name)\n",
        "        Flyable.__init__(self, num_of_wing)\n",
        "\n",
        "    # def get_name(self):\n",
        "    #     return f\"{self.name} from Bird\"\n",
        "#----------------------------------------------\n",
        "\n",
        "bird = Bird(\"Sparrow\", 4)\n",
        "print(bird.get_name())\n",
        "bird.eat()\n",
        "bird.fly()\n",
        "\n",
        "\n",
        "#----------------------------------------------\n",
        "class Dog(Animal):\n",
        "    def __init__(self):\n",
        "        print(\"run __init__ in Dog\")\n",
        "        super().__init__(\"Dog\")\n",
        "\n",
        "    def speak(self):\n",
        "        return \"Woof!\"\n",
        "\n",
        "class Cat(Animal):\n",
        "    def __init__(self):\n",
        "        print(\"run __init__ in Cat\")\n",
        "        super().__init__(\"Cat\")\n",
        "\n",
        "    def speak(self):\n",
        "        return \"Meow!\"\n",
        "\n",
        "def animale_speak(animal):\n",
        "    print(animal.speak())\n",
        "\n",
        "dog = Dog()\n",
        "cat = Cat()\n",
        "print(dog.speak())\n",
        "print(cat.speak())\n",
        "animale_speak(dog)\n",
        "animale_speak(cat)\n",
        "#----------------------------------------------"
      ]
    },
    {
      "cell_type": "code",
      "execution_count": null,
      "metadata": {
        "id": "bu87fi9BAqtP"
      },
      "outputs": [],
      "source": [
        "#yield\n",
        "def my_generator():\n",
        "    yield 1\n",
        "    yield 2\n",
        "    yield 3\n",
        "\n",
        "for value in my_generator():\n",
        "    print(value)\n",
        "\n",
        "#yield reading large file - pages\n",
        "def read_large_file(filename):\n",
        "    with open(filename, \"r\") as file:\n",
        "        while True:\n",
        "            data = file.read(100)\n",
        "            if not data:\n",
        "                break\n",
        "            yield data\n",
        "\n",
        "for page in read_large_file(\"sample_data/README.md\"):\n",
        "    print(\"----------------------------------------------------------------------\")\n",
        "    print(page)"
      ]
    },
    {
      "cell_type": "code",
      "execution_count": 13,
      "metadata": {
        "colab": {
          "base_uri": "https://localhost:8080/"
        },
        "id": "c-MaKcGX5oQh",
        "outputId": "1ae2e373-b21a-47f9-a07f-61ca55e0bd40"
      },
      "outputs": [
        {
          "name": "stdout",
          "output_type": "stream",
          "text": [
            "Hello from inner function\n",
            "RUNNING COMPLECATE FUNCTUINALITY\n",
            "Goodbye from inner function\n"
          ]
        }
      ],
      "source": [
        "#decorator with closures\n",
        "def outer_function(func):\n",
        "    def inner_function():\n",
        "        print(\"Hello from inner function\")\n",
        "        func()\n",
        "        print(\"Goodbye from inner function\")\n",
        "    return inner_function()\n",
        "\n",
        "@outer_function\n",
        "def my_func():\n",
        "    print(\"RUNNING COMPLECATE FUNCTUINALITY\")"
      ]
    },
    {
      "cell_type": "code",
      "execution_count": 14,
      "metadata": {
        "colab": {
          "base_uri": "https://localhost:8080/"
        },
        "id": "Um3G7NnG95Hh",
        "outputId": "08a08275-8b4d-4c79-d6a5-8c81680f745a"
      },
      "outputs": [
        {
          "name": "stdout",
          "output_type": "stream",
          "text": [
            "[1 2 3]\n",
            "<class 'numpy.ndarray'>\n"
          ]
        }
      ],
      "source": [
        "#numpy\n",
        "import numpy as np\n",
        "a = np.array([1,2,3])\n",
        "print(a)\n",
        "print(type(a))\n"
      ]
    },
    {
      "cell_type": "code",
      "execution_count": 69,
      "metadata": {
        "colab": {
          "base_uri": "https://localhost:8080/"
        },
        "id": "K-Wl_PWs-Khp",
        "outputId": "8f655cff-0843-40af-c677-32c583b47227"
      },
      "outputs": [
        {
          "name": "stdout",
          "output_type": "stream",
          "text": [
            "   longitude  latitude  housing_median_age  total_rooms  total_bedrooms  \\\n",
            "0    -122.05     37.37                27.0       3885.0           661.0   \n",
            "1    -118.30     34.26                43.0       1510.0           310.0   \n",
            "\n",
            "   population  households  median_income  median_house_value  \n",
            "0      1537.0       606.0         6.6085            344700.0  \n",
            "1       809.0       277.0         3.5990            176500.0  \n",
            "{\n",
            "    \"longitude\": {\n",
            "        \"0\": -122.05,\n",
            "        \"1\": -118.3\n",
            "    },\n",
            "    \"latitude\": {\n",
            "        \"0\": 37.37,\n",
            "        \"1\": 34.26\n",
            "    },\n",
            "    \"housing_median_age\": {\n",
            "        \"0\": 27.0,\n",
            "        \"1\": 43.0\n",
            "    },\n",
            "    \"total_rooms\": {\n",
            "        \"0\": 3885.0,\n",
            "        \"1\": 1510.0\n",
            "    },\n",
            "    \"total_bedrooms\": {\n",
            "        \"0\": 661.0,\n",
            "        \"1\": 310.0\n",
            "    },\n",
            "    \"population\": {\n",
            "        \"0\": 1537.0,\n",
            "        \"1\": 809.0\n",
            "    },\n",
            "    \"households\": {\n",
            "        \"0\": 606.0,\n",
            "        \"1\": 277.0\n",
            "    },\n",
            "    \"median_income\": {\n",
            "        \"0\": 6.6085,\n",
            "        \"1\": 3.599\n",
            "    },\n",
            "    \"median_house_value\": {\n",
            "        \"0\": 344700.0,\n",
            "        \"1\": 176500.0\n",
            "    }\n",
            "}\n",
            "{\n",
            "    \"0\": {\n",
            "        \"longitude\": -122.05,\n",
            "        \"latitude\": 37.37,\n",
            "        \"housing_median_age\": 27.0,\n",
            "        \"total_rooms\": 3885.0,\n",
            "        \"total_bedrooms\": 661.0,\n",
            "        \"population\": 1537.0,\n",
            "        \"households\": 606.0,\n",
            "        \"median_income\": 6.6085,\n",
            "        \"median_house_value\": 344700.0\n",
            "    },\n",
            "    \"1\": {\n",
            "        \"longitude\": -118.3,\n",
            "        \"latitude\": 34.26,\n",
            "        \"housing_median_age\": 43.0,\n",
            "        \"total_rooms\": 1510.0,\n",
            "        \"total_bedrooms\": 310.0,\n",
            "        \"population\": 809.0,\n",
            "        \"households\": 277.0,\n",
            "        \"median_income\": 3.599,\n",
            "        \"median_house_value\": 176500.0\n",
            "    }\n",
            "}\n",
            "[\n",
            "    {\n",
            "        \"longitude\": -122.05,\n",
            "        \"latitude\": 37.37,\n",
            "        \"housing_median_age\": 27.0,\n",
            "        \"total_rooms\": 3885.0,\n",
            "        \"total_bedrooms\": 661.0,\n",
            "        \"population\": 1537.0,\n",
            "        \"households\": 606.0,\n",
            "        \"median_income\": 6.6085,\n",
            "        \"median_house_value\": 344700.0\n",
            "    },\n",
            "    {\n",
            "        \"longitude\": -118.3,\n",
            "        \"latitude\": 34.26,\n",
            "        \"housing_median_age\": 43.0,\n",
            "        \"total_rooms\": 1510.0,\n",
            "        \"total_bedrooms\": 310.0,\n",
            "        \"population\": 809.0,\n",
            "        \"households\": 277.0,\n",
            "        \"median_income\": 3.599,\n",
            "        \"median_house_value\": 176500.0\n",
            "    }\n",
            "]\n"
          ]
        }
      ],
      "source": [
        "#panda read csv\n",
        "import json\n",
        "import pandas as pd\n",
        "df = pd.read_csv(\"sample_data/california_housing_test.csv\")\n",
        "# print(\"----------------------------------------\")\n",
        "# print(df['housing_median_age'][0:10])\n",
        "# print(\"----------------------------------------\")\n",
        "# print(df.loc[0])\n",
        "# print(\"----------------------------------------\")\n",
        "# print(df.iloc[0][1])\n",
        "# print(\"----------------------------------------\")\n",
        "# print(df.at[1,'housing_median_age'])\n",
        "# print(\"----------------------------------------\")\n",
        "# df['count_of_g_age']=df.groupby('housing_median_age')['housing_median_age'].transform('count')\n",
        "# print(df.head(5))\n",
        "# print(df.tail(5))\n",
        "# print(\"----------------------------------------\")\n",
        "# print(df.describe())\n",
        "# print(df.dtypes)\n",
        "# print(df.isnull().sum())\n",
        "# df[\"total_room_per_age\"] = df['housing_median_age'].groupby(\"housing_median_age\").sum(\"total_rooms\")\n",
        "# print(df1)\n",
        "# print(df.tail(5))\n",
        "# df1 = df.groupby(['housing_median_age','median_income'])['total_rooms'].mean()\n",
        "# print(df1)\n",
        "\n",
        "df_5 = df.head(2)\n",
        "print(df_5)\n",
        "print(json.dumps(json.loads(df_5.to_json()), indent=4))\n",
        "print(json.dumps(json.loads(df_5.to_json(orient='index')), indent=4))\n",
        "\n",
        "obj = json.loads(df_5.to_json(orient='records'))\n",
        "print(json.dumps(obj, indent=4))\n"
      ]
    },
    {
      "cell_type": "code",
      "execution_count": null,
      "metadata": {
        "id": "53zvk-UiPzUA"
      },
      "outputs": [],
      "source": []
    }
  ],
  "metadata": {
    "colab": {
      "provenance": []
    },
    "kernelspec": {
      "display_name": "Python 3",
      "name": "python3"
    },
    "language_info": {
      "name": "python",
      "version": "3.12.9"
    }
  },
  "nbformat": 4,
  "nbformat_minor": 0
}
