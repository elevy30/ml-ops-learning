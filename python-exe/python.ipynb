{
 "cells": [
  {
   "cell_type": "code",
   "execution_count": null,
   "metadata": {
    "colab": {
     "base_uri": "https://localhost:8080/"
    },
    "executionInfo": {
     "elapsed": 255,
     "status": "ok",
     "timestamp": 1739439766211,
     "user": {
      "displayName": "elevy30",
      "userId": "11442834601107520909"
     },
     "user_tz": -120
    },
    "id": "nuvYzZ8zeGX2",
    "outputId": "67fa5a19-5913-414b-de18-32b95e8658a3"
   },
   "outputs": [],
   "source": [
    "#prime numbers\n",
    "for num in range(1,100):\n",
    "    if all(num%i!=0 for i in range(2,num)):\n",
    "        print(num, end=\" \")\n"
   ]
  },
  {
   "cell_type": "code",
   "execution_count": null,
   "metadata": {
    "colab": {
     "base_uri": "https://localhost:8080/"
    },
    "executionInfo": {
     "elapsed": 358,
     "status": "ok",
     "timestamp": 1739439690747,
     "user": {
      "displayName": "elevy30",
      "userId": "11442834601107520909"
     },
     "user_tz": -120
    },
    "id": "Sn9tMckKr0eS",
    "outputId": "d27eb5dc-7db4-4c28-ca48-de75bb3b6198"
   },
   "outputs": [],
   "source": [
    "#print 2 place after the dot\n",
    "num=34.765467\n",
    "print(f\"{num:.3f}\")"
   ]
  },
  {
   "cell_type": "code",
   "execution_count": null,
   "metadata": {
    "colab": {
     "base_uri": "https://localhost:8080/"
    },
    "executionInfo": {
     "elapsed": 345,
     "status": "ok",
     "timestamp": 1739441167781,
     "user": {
      "displayName": "elevy30",
      "userId": "11442834601107520909"
     },
     "user_tz": -120
    },
    "id": "7vxCGtlirko8",
    "outputId": "cf452d9d-3505-41a0-bbb3-95c920da7c1c"
   },
   "outputs": [],
   "source": [
    "#work with List Set and Tuple\n",
    "list1 = [1,2,3,4,5]\n",
    "set1 = {1,2,3,4,4,4,4,5}\n",
    "tuple1 = (1,2,3,4,5, \"hello\")\n",
    "print(list1)\n",
    "print(set1)\n",
    "print(tuple1)\n",
    "\n",
    "#Tuple unpack\n",
    "first,*middle,last = tuple1\n",
    "print(first)\n",
    "print(middle)\n",
    "print(last)\n",
    "\n",
    "#Set union,intersection\n",
    "list2 = set1.intersection(list1)\n",
    "print(list2)\n",
    "\n",
    "del list1[1]\n",
    "print(list1)"
   ]
  },
  {
   "cell_type": "code",
   "execution_count": null,
   "metadata": {
    "colab": {
     "base_uri": "https://localhost:8080/"
    },
    "executionInfo": {
     "elapsed": 263,
     "status": "ok",
     "timestamp": 1739441064735,
     "user": {
      "displayName": "elevy30",
      "userId": "11442834601107520909"
     },
     "user_tz": -120
    },
    "id": "32iWWlLHt5a4",
    "outputId": "6cefe51f-7b5d-4992-a0b5-4f3301c7537e"
   },
   "outputs": [],
   "source": [
    "#power of 2 for even num in dict\n",
    "dict = {x:x**2 for x in range(10) if x%2==0}\n",
    "print(dict)"
   ]
  },
  {
   "cell_type": "code",
   "execution_count": 2,
   "metadata": {
    "colab": {
     "base_uri": "https://localhost:8080/"
    },
    "executionInfo": {
     "elapsed": 281,
     "status": "ok",
     "timestamp": 1739441667319,
     "user": {
      "displayName": "elevy30",
      "userId": "11442834601107520909"
     },
     "user_tz": -120
    },
    "id": "wPx9_m6FzOkN",
    "outputId": "d2503ae7-84d2-4b67-a66c-25d3a57f5d82"
   },
   "outputs": [
    {
     "name": "stdout",
     "output_type": "stream",
     "text": [
      "False\n",
      "True\n"
     ]
    }
   ],
   "source": [
    "# is strong password function\n",
    "def is_strong_password(password):\n",
    "    if len(password) < 8:\n",
    "        return False\n",
    "    if not any(char.islower() for char in password):\n",
    "        return False\n",
    "    if not any(char.isupper() for char in password):\n",
    "        return False\n",
    "    if not any(char.isdigit() for char in password):\n",
    "        return False\n",
    "    if not any(char in \"!@#$%^&*()_+\" for char in password):\n",
    "        return False\n",
    "    return True\n",
    "\n",
    "print(is_strong_password(\"Password123\"))\n",
    "print(is_strong_password(\"Password123!\"))"
   ]
  },
  {
   "cell_type": "code",
   "execution_count": null,
   "metadata": {
    "colab": {
     "base_uri": "https://localhost:8080/"
    },
    "executionInfo": {
     "elapsed": 262,
     "status": "ok",
     "timestamp": 1739441855721,
     "user": {
      "displayName": "elevy30",
      "userId": "11442834601107520909"
     },
     "user_tz": -120
    },
    "id": "x_naWjz7z_u0",
    "outputId": "7410439d-96f2-4f14-842d-bcdfe8018bec"
   },
   "outputs": [],
   "source": [
    "#is a palindrome\n",
    "def is_palindrome(string):\n",
    "    return string == string[::-1]\n",
    "\n",
    "print(is_palindrome(\"racecar\"))\n",
    "print(is_palindrome(\"hello\"))"
   ]
  },
  {
   "cell_type": "code",
   "execution_count": null,
   "metadata": {
    "colab": {
     "base_uri": "https://localhost:8080/"
    },
    "executionInfo": {
     "elapsed": 1054,
     "status": "ok",
     "timestamp": 1739442348513,
     "user": {
      "displayName": "elevy30",
      "userId": "11442834601107520909"
     },
     "user_tz": -120
    },
    "id": "zYP93dNj0jZ-",
    "outputId": "819521f7-8b44-4727-c3bb-2186d874fb54"
   },
   "outputs": [],
   "source": [
    "#file operation - count freq of each word\n",
    "def count_word_freq(filename):\n",
    "    word_freq = {}\n",
    "    with open(filename, \"r\") as file:\n",
    "        for line in file:\n",
    "            words = line.strip().split()\n",
    "            for word in words:\n",
    "                word = word.lower().strip(\".,!?()\\:;[]'/\")\n",
    "                word_freq[word] = word_freq.get(word, 0) + 1\n",
    "    return word_freq\n",
    "\n",
    "print(count_word_freq(\"sample_data/README.md\"))\n"
   ]
  },
  {
   "cell_type": "code",
   "execution_count": null,
   "metadata": {
    "colab": {
     "base_uri": "https://localhost:8080/"
    },
    "executionInfo": {
     "elapsed": 272,
     "status": "ok",
     "timestamp": 1739442958406,
     "user": {
      "displayName": "elevy30",
      "userId": "11442834601107520909"
     },
     "user_tz": -120
    },
    "id": "Sz4iavPK211Z",
    "outputId": "d6194722-9e0a-4d9a-bc2f-ed022702631a"
   },
   "outputs": [],
   "source": [
    "#lambda function => lambda params:expression\n",
    "add = lambda a,b: a+b\n",
    "print(type(add))\n",
    "print(add(1,2))\n",
    "\n",
    "#map - apply expression to all item in the list\n",
    "numbers = [1,2,3,4,5]\n",
    "squared_numbers = list(map(lambda x: x**2, numbers))\n",
    "print(squared_numbers)\n"
   ]
  },
  {
   "cell_type": "code",
   "execution_count": 9,
   "metadata": {
    "id": "FfM88f_621r7"
   },
   "outputs": [
    {
     "ename": "ModuleNotFoundError",
     "evalue": "No module named 'mypackage'",
     "output_type": "error",
     "traceback": [
      "\u001b[1;31m---------------------------------------------------------------------------\u001b[0m",
      "\u001b[1;31mModuleNotFoundError\u001b[0m                       Traceback (most recent call last)",
      "Cell \u001b[1;32mIn[9], line 4\u001b[0m\n\u001b[0;32m      1\u001b[0m \u001b[38;5;28;01mimport\u001b[39;00m\u001b[38;5;250m \u001b[39m\u001b[38;5;21;01msys\u001b[39;00m\n\u001b[0;32m      2\u001b[0m sys\u001b[38;5;241m.\u001b[39mpath\u001b[38;5;241m.\u001b[39mappend(\u001b[38;5;124m'\u001b[39m\u001b[38;5;124mmypackage/mymath\u001b[39m\u001b[38;5;124m'\u001b[39m)\n\u001b[1;32m----> 4\u001b[0m \u001b[38;5;28;01mfrom\u001b[39;00m\u001b[38;5;250m \u001b[39m\u001b[38;5;21;01mmypackage\u001b[39;00m\u001b[38;5;21;01m.\u001b[39;00m\u001b[38;5;21;01mmymath\u001b[39;00m\u001b[38;5;250m \u001b[39m\u001b[38;5;28;01mimport\u001b[39;00m addition\n\u001b[0;32m      6\u001b[0m \u001b[38;5;28mprint\u001b[39m(addition(\u001b[38;5;241m1\u001b[39m, \u001b[38;5;241m2\u001b[39m))\n",
      "\u001b[1;31mModuleNotFoundError\u001b[0m: No module named 'mypackage'"
     ]
    }
   ],
   "source": [
    "import sys\n",
    "sys.path.append('mypackage/mymath')\n",
    "\n",
    "from mypackage.mymath import addition\n",
    "\n",
    "print(addition(1, 2))"
   ]
  }
 ],
 "metadata": {
  "colab": {
   "authorship_tag": "ABX9TyO8ie/lIWanBn9lggxM4CuF",
   "provenance": []
  },
  "kernelspec": {
   "display_name": "Python 3",
   "name": "python3"
  },
  "language_info": {
   "codemirror_mode": {
    "name": "ipython",
    "version": 3
   },
   "file_extension": ".py",
   "mimetype": "text/x-python",
   "name": "python",
   "nbconvert_exporter": "python",
   "pygments_lexer": "ipython3",
   "version": "3.12.9"
  }
 },
 "nbformat": 4,
 "nbformat_minor": 0
}
