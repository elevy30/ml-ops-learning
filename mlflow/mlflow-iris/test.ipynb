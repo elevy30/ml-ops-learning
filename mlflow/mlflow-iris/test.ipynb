{
 "cells": [
  {
   "cell_type": "markdown",
   "id": "e0afcdfae2cd5057",
   "metadata": {},
   "source": [
    "## MLFLOW Tracking Server"
   ]
  },
  {
   "cell_type": "code",
   "id": "initial_id",
   "metadata": {
    "collapsed": true,
    "jupyter": {
     "outputs_hidden": true
    },
    "ExecuteTime": {
     "end_time": "2025-02-18T19:56:14.247394Z",
     "start_time": "2025-02-18T19:56:11.821058Z"
    }
   },
   "source": [
    "import mlflow\n",
    "import time\n",
    "\n",
    "# Reset tracking URI\n",
    "mlflow.set_tracking_uri(None)\n",
    "\n",
    "# Set new tracking URI\n",
    "tracking_uri = \"http://localhost:5001\"\n",
    "mlflow.set_tracking_uri(tracking_uri)\n",
    "\n",
    "# Print tracking URI for verification\n",
    "print(f\"Tracking URI: {mlflow.get_tracking_uri()}\")\n",
    "\n",
    "try:\n",
    "    # Create unique experiment name using timestamp\n",
    "    experiment_name = f\"test_experiment_{int(time.time())}\"\n",
    "    mlflow.set_experiment(experiment_name)\n",
    "    print(f\"Successfully created experiment: {experiment_name}\")\n",
    "\n",
    "    # Try to start a run\n",
    "    with mlflow.start_run():\n",
    "        mlflow.log_metric(\"test\", 1.0)\n",
    "        print(\"Successfully logged metric\")\n",
    "\n",
    "except Exception as e:\n",
    "    print(f\"Error: {str(e)}\")"
   ],
   "outputs": [
    {
     "name": "stdout",
     "output_type": "stream",
     "text": [
      "Tracking URI: http://localhost:5001\n"
     ]
    },
    {
     "name": "stderr",
     "output_type": "stream",
     "text": [
      "2025/02/18 21:56:13 INFO mlflow.tracking.fluent: Experiment with name 'test_experiment_1739908571' does not exist. Creating a new experiment.\n"
     ]
    },
    {
     "name": "stdout",
     "output_type": "stream",
     "text": [
      "Successfully created experiment: test_experiment_1739908571\n",
      "Successfully logged metric\n",
      "🏃 View run nervous-newt-985 at: http://localhost:5001/#/experiments/1/runs/760dfae583944ba4b8195a197ac41232\n",
      "🧪 View experiment at: http://localhost:5001/#/experiments/1\n"
     ]
    }
   ],
   "execution_count": 6
  },
  {
   "cell_type": "code",
   "execution_count": 4,
   "id": "52d295b33ce6007c",
   "metadata": {
    "ExecuteTime": {
     "end_time": "2025-02-18T17:30:19.827239Z",
     "start_time": "2025-02-18T17:30:19.724190Z"
    }
   },
   "outputs": [
    {
     "name": "stdout",
     "output_type": "stream",
     "text": [
      "Successfully logged metric\n",
      "🏃 View run caring-shrew-384 at: http://localhost:5000/#/experiments/291348133662264342/runs/8e6a1c8868cd44b9b182a6b9fc3ca670\n",
      "🧪 View experiment at: http://localhost:5000/#/experiments/291348133662264342\n"
     ]
    }
   ],
   "source": [
    "try:\n",
    "    # Try to start a run\n",
    "    with mlflow.start_run():\n",
    "        mlflow.log_metric(\"hello\", 3.0)\n",
    "        print(\"Successfully logged metric\")\n",
    "\n",
    "except Exception as e:\n",
    "    print(f\"Error: {str(e)}\")"
   ]
  }
 ],
 "metadata": {
  "kernelspec": {
   "display_name": "Python 3 (ipykernel)",
   "language": "python",
   "name": "python3"
  },
  "language_info": {
   "codemirror_mode": {
    "name": "ipython",
    "version": 3
   },
   "file_extension": ".py",
   "mimetype": "text/x-python",
   "name": "python",
   "nbconvert_exporter": "python",
   "pygments_lexer": "ipython3",
   "version": "3.11.9"
  }
 },
 "nbformat": 4,
 "nbformat_minor": 5
}
